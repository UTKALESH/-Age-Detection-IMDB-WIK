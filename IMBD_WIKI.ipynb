{
  "nbformat": 4,
  "nbformat_minor": 0,
  "metadata": {
    "colab": {
      "provenance": []
    },
    "kernelspec": {
      "name": "python3",
      "display_name": "Python 3"
    },
    "language_info": {
      "name": "python"
    }
  },
  "cells": [
    {
      "cell_type": "code",
      "execution_count": 13,
      "metadata": {
        "id": "E7v6ehT_C8sc"
      },
      "outputs": [],
      "source": [
        "import os\n",
        "import cv2\n",
        "import numpy as np\n",
        "import tensorflow as tf\n",
        "from tensorflow.keras.models import Sequential\n",
        "from tensorflow.keras.layers import Conv2D, MaxPooling2D, Flatten, Dense, Dropout\n",
        "from tensorflow.keras.optimizers import Adam\n",
        "from sklearn.model_selection import train_test_split"
      ]
    },
    {
      "cell_type": "code",
      "source": [
        "# Set dataset path\n",
        "data_path = \"/content/drive/MyDrive/DATASET/IMBD WIKI\"\n"
      ],
      "metadata": {
        "id": "0xaoxDKgWUZi"
      },
      "execution_count": 14,
      "outputs": []
    },
    {
      "cell_type": "code",
      "source": [
        "def extract_age_from_filename(filename):\n",
        "    try:\n",
        "        parts = filename.split(\"_\")\n",
        "        birth_year = int(parts[2].split(\"-\")[0])  # Extract birth year\n",
        "        photo_year = int(parts[3].split(\".\")[0])  # Extract photo year\n",
        "        return photo_year - birth_year  # Compute age\n",
        "    except:\n",
        "        return None\n",
        "\n",
        "def load_data(data_path, img_size=(128, 128)):\n",
        "    images = []\n",
        "    ages = []\n",
        "    for filename in os.listdir(data_path):\n",
        "        img_path = os.path.join(data_path, filename)\n",
        "        if filename.endswith(\".jpg\"):\n",
        "            age = extract_age_from_filename(filename)\n",
        "            if age is not None:\n",
        "                try:\n",
        "                    img = cv2.imread(img_path)\n",
        "                    img = cv2.resize(img, img_size)\n",
        "                    img = img / 255.0  # Normalize\n",
        "                    images.append(img)\n",
        "                    ages.append(age)\n",
        "                except:\n",
        "                    continue\n",
        "    return np.array(images), np.array(ages)"
      ],
      "metadata": {
        "id": "nN-_LSBfWXqC"
      },
      "execution_count": 15,
      "outputs": []
    },
    {
      "cell_type": "code",
      "source": [
        "# Load images and labels\n",
        "X, y = load_data(data_path)\n",
        "\n",
        "# Split dataset\n",
        "X_train, X_test, y_train, y_test = train_test_split(X, y, test_size=0.2, random_state=42)"
      ],
      "metadata": {
        "id": "Wi2r2b3MW8da"
      },
      "execution_count": 16,
      "outputs": []
    },
    {
      "cell_type": "code",
      "source": [
        "# Build CNN model\n",
        "model = Sequential([\n",
        "    Conv2D(32, (3, 3), activation='relu', input_shape=(128, 128, 3)),\n",
        "    MaxPooling2D(2, 2),\n",
        "    Conv2D(64, (3, 3), activation='relu'),\n",
        "    MaxPooling2D(2, 2),\n",
        "    Conv2D(128, (3, 3), activation='relu'),\n",
        "    MaxPooling2D(2, 2),\n",
        "    Flatten(),\n",
        "    Dense(128, activation='relu'),\n",
        "    Dropout(0.5),\n",
        "    Dense(1)  # Regression output\n",
        "])\n",
        "\n",
        "# Compile model\n",
        "model.compile(optimizer=Adam(learning_rate=0.001), loss='mse', metrics=['mae'])\n",
        "\n",
        "# Train model\n",
        "model.fit(X_train, y_train, validation_data=(X_test, y_test), epochs=10, batch_size=32)\n",
        "\n",
        "# Save model\n",
        "model.save(\"age_detection_model.h5\")\n",
        "\n",
        "print(\"Model training complete and saved.\")\n"
      ],
      "metadata": {
        "colab": {
          "base_uri": "https://localhost:8080/"
        },
        "id": "Mjz6KYLiXd7b",
        "outputId": "2b93353d-e971-43b3-e281-0e24027cdcda"
      },
      "execution_count": 18,
      "outputs": [
        {
          "output_type": "stream",
          "name": "stdout",
          "text": [
            "Epoch 1/10\n",
            "\u001b[1m84/84\u001b[0m \u001b[32m━━━━━━━━━━━━━━━━━━━━\u001b[0m\u001b[37m\u001b[0m \u001b[1m107s\u001b[0m 1s/step - loss: 485.9289 - mae: 16.9446 - val_loss: 168.1423 - val_mae: 9.5759\n",
            "Epoch 2/10\n",
            "\u001b[1m84/84\u001b[0m \u001b[32m━━━━━━━━━━━━━━━━━━━━\u001b[0m\u001b[37m\u001b[0m \u001b[1m140s\u001b[0m 1s/step - loss: 212.5738 - mae: 10.4564 - val_loss: 163.2796 - val_mae: 9.0349\n",
            "Epoch 3/10\n",
            "\u001b[1m84/84\u001b[0m \u001b[32m━━━━━━━━━━━━━━━━━━━━\u001b[0m\u001b[37m\u001b[0m \u001b[1m137s\u001b[0m 1s/step - loss: 196.5703 - mae: 10.2894 - val_loss: 158.1362 - val_mae: 9.2049\n",
            "Epoch 4/10\n",
            "\u001b[1m84/84\u001b[0m \u001b[32m━━━━━━━━━━━━━━━━━━━━\u001b[0m\u001b[37m\u001b[0m \u001b[1m92s\u001b[0m 1s/step - loss: 188.1051 - mae: 10.0485 - val_loss: 155.1506 - val_mae: 8.8989\n",
            "Epoch 5/10\n",
            "\u001b[1m84/84\u001b[0m \u001b[32m━━━━━━━━━━━━━━━━━━━━\u001b[0m\u001b[37m\u001b[0m \u001b[1m147s\u001b[0m 1s/step - loss: 202.0830 - mae: 10.3726 - val_loss: 155.5175 - val_mae: 9.3528\n",
            "Epoch 6/10\n",
            "\u001b[1m84/84\u001b[0m \u001b[32m━━━━━━━━━━━━━━━━━━━━\u001b[0m\u001b[37m\u001b[0m \u001b[1m137s\u001b[0m 1s/step - loss: 192.5534 - mae: 10.0088 - val_loss: 156.9122 - val_mae: 8.8806\n",
            "Epoch 7/10\n",
            "\u001b[1m84/84\u001b[0m \u001b[32m━━━━━━━━━━━━━━━━━━━━\u001b[0m\u001b[37m\u001b[0m \u001b[1m146s\u001b[0m 1s/step - loss: 186.5762 - mae: 9.8092 - val_loss: 156.5499 - val_mae: 8.9099\n",
            "Epoch 8/10\n",
            "\u001b[1m84/84\u001b[0m \u001b[32m━━━━━━━━━━━━━━━━━━━━\u001b[0m\u001b[37m\u001b[0m \u001b[1m141s\u001b[0m 1s/step - loss: 168.2940 - mae: 9.5029 - val_loss: 156.5779 - val_mae: 8.7668\n",
            "Epoch 9/10\n",
            "\u001b[1m84/84\u001b[0m \u001b[32m━━━━━━━━━━━━━━━━━━━━\u001b[0m\u001b[37m\u001b[0m \u001b[1m145s\u001b[0m 1s/step - loss: 207.7100 - mae: 10.1984 - val_loss: 161.1041 - val_mae: 8.8619\n",
            "Epoch 10/10\n",
            "\u001b[1m84/84\u001b[0m \u001b[32m━━━━━━━━━━━━━━━━━━━━\u001b[0m\u001b[37m\u001b[0m \u001b[1m96s\u001b[0m 1s/step - loss: 211.6753 - mae: 10.1167 - val_loss: 175.1798 - val_mae: 9.0339\n"
          ]
        },
        {
          "output_type": "stream",
          "name": "stderr",
          "text": [
            "WARNING:absl:You are saving your model as an HDF5 file via `model.save()` or `keras.saving.save_model(model)`. This file format is considered legacy. We recommend using instead the native Keras format, e.g. `model.save('my_model.keras')` or `keras.saving.save_model(model, 'my_model.keras')`. \n"
          ]
        },
        {
          "output_type": "stream",
          "name": "stdout",
          "text": [
            "Model training complete and saved.\n"
          ]
        }
      ]
    },
    {
      "cell_type": "code",
      "source": [],
      "metadata": {
        "id": "p3dsDLp3aAvj"
      },
      "execution_count": null,
      "outputs": []
    }
  ]
}